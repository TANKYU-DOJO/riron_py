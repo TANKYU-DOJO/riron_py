{
 "cells": [
  {
   "attachments": {},
   "cell_type": "markdown",
   "metadata": {},
   "source": [
    "# 落下運動シミュレーション\n",
    "\n",
    "物体の落下運動の軌道を計算します。\n",
    "\n",
    "## パラメーター\n",
    "\n",
    "* m:物体の質量\n",
    "* g:重力加速度\n",
    "* t:シミュレート時間\n",
    "* fps:tあたりに演算する回数\n",
    "* position:初期位置\n",
    "* velocity:初速度"
   ]
  },
  {
   "attachments": {},
   "cell_type": "markdown",
   "metadata": {},
   "source": [
    "必要なライブラリをインポートします。"
   ]
  },
  {
   "cell_type": "code",
   "execution_count": 1,
   "metadata": {},
   "outputs": [],
   "source": [
    "import numpy as np\n",
    "import matplotlib.pyplot as plt\n",
    "import tqdm.notebook"
   ]
  },
  {
   "attachments": {},
   "cell_type": "markdown",
   "metadata": {},
   "source": [
    "パラメータを定義します。"
   ]
  },
  {
   "cell_type": "code",
   "execution_count": 2,
   "metadata": {},
   "outputs": [],
   "source": [
    "#定数 \n",
    "m = 1   #質量\n",
    "g = 9.8 #重力加速度\n",
    "t = 10\n",
    "fps = 60\n",
    "\n",
    "#変数\n",
    "position = np.array([0,0])\n",
    "velocity = np.array([1,40])\n",
    "acceleration = np.array([0,0])\n",
    "\n",
    "x = np.array([position[0]])\n",
    "y = np.array([position[1]])\n"
   ]
  },
  {
   "attachments": {},
   "cell_type": "markdown",
   "metadata": {},
   "source": [
    "運動方程式を定義します。\n",
    "F=maをaについて解いたものをし使います。"
   ]
  },
  {
   "cell_type": "code",
   "execution_count": 3,
   "metadata": {},
   "outputs": [],
   "source": [
    "#運動方程式\n",
    "def equation_of_motion(f,m):\n",
    "    return f/m"
   ]
  },
  {
   "attachments": {},
   "cell_type": "markdown",
   "metadata": {},
   "source": [
    "物体の位置,速度,加速度を更新します。"
   ]
  },
  {
   "cell_type": "code",
   "execution_count": 4,
   "metadata": {},
   "outputs": [],
   "source": [
    "#更新\n",
    "def update():\n",
    "    global position,velocity,acceleration\n",
    "\n",
    "    f = np.array([0,-m*g])\n",
    "\n",
    "    acceleration = equation_of_motion(f,m)\n",
    "    velocity = velocity + acceleration/fps\n",
    "    position = position + velocity/fps"
   ]
  }
 ],
 "metadata": {
  "kernelspec": {
   "display_name": "test",
   "language": "python",
   "name": "python3"
  },
  "language_info": {
   "codemirror_mode": {
    "name": "ipython",
    "version": 3
   },
   "file_extension": ".py",
   "mimetype": "text/x-python",
   "name": "python",
   "nbconvert_exporter": "python",
   "pygments_lexer": "ipython3",
   "version": "3.11.3"
  },
  "orig_nbformat": 4,
  "vscode": {
   "interpreter": {
    "hash": "dd35d0d2f47ffda01634c9676252f33987d44a0ea61035fce8b295334bc5a8d3"
   }
  }
 },
 "nbformat": 4,
 "nbformat_minor": 2
}
