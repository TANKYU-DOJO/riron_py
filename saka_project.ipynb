{
 "cells": [
  {
   "cell_type": "markdown",
   "metadata": {},
   "source": [
    "## 坂プロジェクト\n",
    "坂プロジェクトの運動方程式をルンゲ・クッタ法で解き直しました。これは2024年度の理論チームのキックオフで使用しようと思います。\n",
    "\n",
    "以下が解くべき運動方程式です。\n",
    "$$\n",
    "\\begin{align}\n",
    "M\\frac{d^2x}{dt^2}&=-Mg\\sin \\varphi - N\\\\\n",
    "I\\frac{d\\theta^2}{dt^2}&=RN\n",
    "\\end{align}\n",
    "$$\n",
    "また, 物体はすべらないという条件のもと以下を条件として与えます。\n",
    "$$\n",
    "\\begin{align}\n",
    "\\tag{3} R\\varphi = x\n",
    "\\end{align}\n",
    "$$\n",
    "\n",
    "(1)-(3)を変形すると以下が得られます。\n",
    "$$\n",
    "\\begin{align}\n",
    "\\tag{4}\\frac{dx^2}{dt^2}&=\\frac{g\\sin\\varphi}{1+\\frac{I}{r^2}}\\\\\n",
    "\\tag{5}\\frac{d^2\\theta}{dt^2}&=\\frac{1}{R}\\frac{d^2x}{dt^2}\n",
    "\\end{align}\n",
    "$$\n",
    "ここでは(4)(5)をルンゲ・クッタ法によって解くこととします。"
   ]
  },
  {
   "cell_type": "code",
   "execution_count": null,
   "metadata": {},
   "outputs": [],
   "source": [
    "import numpy as np\n",
    "import scipy as sp\n",
    "import matplotlib.pyplot as plt\n",
    "#定数たち\n",
    "T_max=5\n",
    "m = 1\n",
    "G = 9.8\n",
    "k = 0.3\n",
    "Phi=30\n",
    "R=0.5\n",
    "I=1/2*m*R**2\n",
    "dt=0.02\n",
    "#解きたい方程式\n",
    "def f(t,p):\n",
    "    v,x,omega,theta = p\n",
    "    dxdt=v\n",
    "    dthetadt=omega\n",
    "    dvdt=(G*np.sin(np.radians(Phi)))/(1+I/R**2)\n",
    "    domegadt=1/R * dvdt\n",
    "    return([dvdt,dxdt,domegadt,dthetadt])\n",
    "\n",
    "#初期値の設定\n",
    "sol = sp.integrate.solve_ivp(f,(0,T_max),[0,0,0,0],dense_output=True)\n",
    "t=np.arange(0,T_max,dt)\n",
    "T=sol.sol(t)[0]\n",
    "theta=sol.sol(t)[3]\n",
    "x=sol.sol(t)[1]\n",
    "x_o=-x*np.cos(np.radians(Phi))-((0+R)*np.sin(np.radians(Phi)))\n",
    "y_o=-x*np.sin(np.radians(Phi))+((0+R)*np.cos(np.radians(Phi)))\n"
   ]
  },
  {
   "cell_type": "markdown",
   "metadata": {},
   "source": [
    "#### 以下は可視化処理"
   ]
  },
  {
   "cell_type": "code",
   "execution_count": null,
   "metadata": {},
   "outputs": [],
   "source": [
    "\n",
    "import matplotlib.pyplot as plt\n",
    "import matplotlib.patches as patch\n",
    "from matplotlib.animation import FuncAnimation\n",
    "from IPython.display import HTML\n",
    "# 各フレームを保存するフレームリスト\n",
    "artists = []\n",
    " \n",
    "# FigureとAxesインスタンスを取得\n",
    "fig, ax = plt.subplots()\n",
    " \n",
    "def draw_frame(frame):\n",
    "    # FuncAnimationの場合はフレームごとに内容をクリア\n",
    "    plt.cla()\n",
    "    # Axesに対する設定もクリアされるので、毎回設定が必要\n",
    "    ax.set_aspect('equal')\n",
    "    ax.set_xlim(-20, 2)\n",
    "    ax.set_ylim(-12.5, 1)\n",
    "    ax.axline((0, 0), slope=np.tan(np.radians(Phi)), color='red', lw=2)\n",
    "    # 図形の生成\n",
    "    circle = patch.Circle(xy=(x_o[frame], y_o[frame]), radius=R)\n",
    "    circle2 = patch.Circle(xy=(x_o[frame]+0.4*np.cos(theta[frame]), y_o[frame]+0.4*np.sin(theta[frame])), radius=0.1,color=\"red\")\n",
    "    # 図形の追加\n",
    "    ax.add_artist(circle)\n",
    "    ax.add_artist(circle2)\n",
    " \n",
    "# 描画関数を渡してFuncAnimationインスタンスを生成\n",
    "anim = FuncAnimation(fig, draw_frame, interval=dt*1000, frames=int(T_max/dt))\n",
    "anim.save(\"anim.mp4\")\n",
    "# 表示\n",
    "#HTML(anim.to_html5_video())"
   ]
  }
 ],
 "metadata": {
  "kernelspec": {
   "display_name": "test",
   "language": "python",
   "name": "python3"
  },
  "language_info": {
   "codemirror_mode": {
    "name": "ipython",
    "version": 3
   },
   "file_extension": ".py",
   "mimetype": "text/x-python",
   "name": "python",
   "nbconvert_exporter": "python",
   "pygments_lexer": "ipython3",
   "version": "3.11.3"
  }
 },
 "nbformat": 4,
 "nbformat_minor": 2
}
